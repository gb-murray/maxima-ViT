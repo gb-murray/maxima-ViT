{
 "cells": [
  {
   "cell_type": "code",
   "execution_count": null,
   "id": "e336ef41",
   "metadata": {},
   "outputs": [],
   "source": [
    "import fabio\n",
    "import matplotlib.pyplot as plt\n",
    "from matplotlib.colors import LogNorm\n",
    "import numpy as np"
   ]
  },
  {
   "cell_type": "code",
   "execution_count": null,
   "id": "3ffbbbfe",
   "metadata": {},
   "outputs": [],
   "source": [
    "# Load an XRD.tiff pattern\n",
    "\n",
    "path = f\"path/to/xrd.tiff\"\n",
    "pattern = fabio.open(path)"
   ]
  },
  {
   "cell_type": "code",
   "execution_count": null,
   "id": "6c4d04f5",
   "metadata": {},
   "outputs": [],
   "source": [
    "# Visualize the pattern at log scale\n",
    "\n",
    "plt.imshow(pattern.data, cmap='gray', norm=LogNorm(vmin=np.min(pattern.data[pattern.data > 0]), vmax=np.max(pattern.data)))\n",
    "plt.axis('off')\n",
    "plt.show()"
   ]
  }
 ],
 "metadata": {
  "kernelspec": {
   "display_name": "maxima",
   "language": "python",
   "name": "python3"
  },
  "language_info": {
   "codemirror_mode": {
    "name": "ipython",
    "version": 3
   },
   "file_extension": ".py",
   "mimetype": "text/x-python",
   "name": "python",
   "nbconvert_exporter": "python",
   "pygments_lexer": "ipython3",
   "version": "3.13.5"
  }
 },
 "nbformat": 4,
 "nbformat_minor": 5
}
