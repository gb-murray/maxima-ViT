{
 "cells": [
  {
   "cell_type": "code",
   "execution_count": null,
   "id": "e9d0893c",
   "metadata": {},
   "outputs": [],
   "source": [
    "import sys\n",
    "import yaml\n",
    "import numpy as np\n",
    "import torch\n",
    "from torch.utils.data import DataLoader\n",
    "from tqdm import tqdm\n",
    "import matplotlib.pyplot as plt\n",
    "import seaborn as sns\n",
    "from sklearn.metrics import mean_absolute_error, r2_score"
   ]
  },
  {
   "cell_type": "code",
   "execution_count": null,
   "id": "0edf1150",
   "metadata": {},
   "outputs": [],
   "source": [
    "project_root = \"\"\n",
    "sys.path.append(project_root)"
   ]
  },
  {
   "cell_type": "code",
   "execution_count": null,
   "id": "87138af8",
   "metadata": {},
   "outputs": [],
   "source": [
    "from src.utils import create_model\n",
    "from src.data_pipeline import  HDF5Dataset\n",
    "sns.set_theme(style=\"whitegrid\")"
   ]
  },
  {
   "cell_type": "code",
   "execution_count": null,
   "id": "0f8d335d",
   "metadata": {},
   "outputs": [],
   "source": [
    "CONFIG_PATH = \"\" \n",
    "MODEL_PATH = \"\"\n",
    "HDF5_PATH = \"\"\n",
    "\n",
    "with open(CONFIG_PATH, 'r') as f:\n",
    "    config = yaml.safe_load(f)\n",
    "\n",
    "PARAM_NAMES = [\"dist\", \"poni1\", \"poni2\", \"rot1\", \"rot2\", \"rot3\"]\n",
    "PARAM_UNITS = [\"m\", \"m\", \"m\", \"rad\", \"rad\", \"rad\"]"
   ]
  },
  {
   "cell_type": "code",
   "execution_count": null,
   "id": "fb32e69a",
   "metadata": {},
   "outputs": [],
   "source": [
    "# Load model in inference mode\n",
    "\n",
    "device = torch.device(\"cuda\" if torch.cuda.is_available() else \"cpu\")\n",
    "print(f\"Using device: {device}\")\n",
    "\n",
    "model = create_model(config)\n",
    "\n",
    "print(f\"Loading model weights from {MODEL_PATH}\")\n",
    "state_dict = torch.load(MODEL_PATH, map_location=device)\n",
    "\n",
    "if any(k.startswith('_orig_mod.') for k in state_dict.keys()):\n",
    "    from collections import OrderedDict\n",
    "    new_state_dict = OrderedDict()\n",
    "    for k, v in state_dict.items():\n",
    "        name = k[10:] if k.startswith('_orig_mod.') else k\n",
    "        new_state_dict[name] = v\n",
    "    state_dict = new_state_dict\n",
    "\n",
    "model.load_state_dict(state_dict)\n",
    "model.to(device)\n",
    "model.eval();\n",
    "\n",
    "print(\"Model loaded for inference.\")"
   ]
  },
  {
   "cell_type": "code",
   "execution_count": null,
   "id": "2d20cd9a",
   "metadata": {},
   "outputs": [],
   "source": [
    "# Run the inference\n",
    "\n",
    "image_size = config['model'].get('image_size', 224)\n",
    "test_dataset = HDF5Dataset(HDF5_PATH, 'test', image_size=image_size)\n",
    "test_loader = DataLoader(test_dataset, batch_size=config['training']['batch_size'], shuffle=False)\n",
    "\n",
    "all_preds = []\n",
    "all_labels = []\n",
    "\n",
    "print(\"Running inference on the test set...\")\n",
    "with torch.no_grad():\n",
    "    for images, labels in tqdm(test_loader):\n",
    "        images = images.to(device)\n",
    "        predictions = model(images)\n",
    "        \n",
    "        all_preds.append(predictions.cpu().numpy())\n",
    "        all_labels.append(labels.cpu().numpy())\n",
    "\n",
    "preds_np = np.concatenate(all_preds)\n",
    "labels_np = np.concatenate(all_labels)\n",
    "\n",
    "print(\"Inference complete.\")"
   ]
  },
  {
   "cell_type": "code",
   "execution_count": null,
   "id": "17fa8146",
   "metadata": {},
   "outputs": [],
   "source": [
    "# Calculates the mean absolute error and correlation for each parameter\n",
    "\n",
    "print(\"Performance Metrics\")\n",
    "for i, name in enumerate(PARAM_NAMES):\n",
    "    mae = mean_absolute_error(labels_np[:, i], preds_np[:, i])\n",
    "    r2 = r2_score(labels_np[:, i], preds_np[:, i])\n",
    "    print(f\"{name:<6} (unit: {PARAM_UNITS[i]:<4}) | MAE: {mae:.6f} | R2: {r2:.4f}\")"
   ]
  },
  {
   "cell_type": "code",
   "execution_count": null,
   "id": "1104922c",
   "metadata": {},
   "outputs": [],
   "source": [
    "# Plots predicted vs true value correlations for each parameter\n",
    "\n",
    "fig, axes = plt.subplots(2, 3, figsize=(18, 10))\n",
    "fig.suptitle('Predicted vs. True Poni Parameters', fontsize=16)\n",
    "axes = axes.flatten()\n",
    "\n",
    "for i, (ax, name) in enumerate(zip(axes, PARAM_NAMES)):\n",
    "    ax.scatter(labels_np[:, i], preds_np[:, i], alpha=0.5, s=10)\n",
    "    \n",
    "    lims = [\n",
    "        np.min([ax.get_xlim(), ax.get_ylim()]),\n",
    "        np.max([ax.get_xlim(), ax.get_ylim()]),\n",
    "    ]\n",
    "    ax.plot(lims, lims, 'r--', alpha=0.75, zorder=0)\n",
    "    ax.set_aspect('equal', adjustable='box')\n",
    "    \n",
    "    ax.set_title(name)\n",
    "    ax.set_xlabel(f\"True Value ({PARAM_UNITS[i]})\")\n",
    "    ax.set_ylabel(f\"Predicted Value ({PARAM_UNITS[i]})\")\n",
    "\n",
    "plt.tight_layout(rect=[0, 0.03, 1, 0.95]) #type: ignore\n",
    "plt.show()"
   ]
  },
  {
   "cell_type": "code",
   "execution_count": null,
   "id": "a42e666f",
   "metadata": {},
   "outputs": [],
   "source": [
    "# Plots error distributions for each parameter\n",
    "\n",
    "errors_np = preds_np - labels_np\n",
    "\n",
    "fig, axes = plt.subplots(2, 3, figsize=(18, 10))\n",
    "fig.suptitle('Error Distribution for Poni Parameters', fontsize=16)\n",
    "axes = axes.flatten()\n",
    "\n",
    "for i, (ax, name) in enumerate(zip(axes, PARAM_NAMES)):\n",
    "    sns.histplot(errors_np[:, i], kde=True, ax=ax, bins=30)\n",
    "    ax.axvline(0, color='r', linestyle='--')\n",
    "    ax.set_title(name)\n",
    "    ax.set_xlabel(f\"Prediction Error ({PARAM_UNITS[i]})\")\n",
    "    ax.set_ylabel(\"Frequency\")\n",
    "\n",
    "plt.tight_layout(rect=[0, 0.03, 1, 0.95]) #type: ignore\n",
    "plt.show()"
   ]
  }
 ],
 "metadata": {
  "kernelspec": {
   "display_name": "maxima",
   "language": "python",
   "name": "python3"
  },
  "language_info": {
   "codemirror_mode": {
    "name": "ipython",
    "version": 3
   },
   "file_extension": ".py",
   "mimetype": "text/x-python",
   "name": "python",
   "nbconvert_exporter": "python",
   "pygments_lexer": "ipython3",
   "version": "3.13.5"
  }
 },
 "nbformat": 4,
 "nbformat_minor": 5
}
